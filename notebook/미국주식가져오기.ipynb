{
 "cells": [
  {
   "cell_type": "code",
   "execution_count": 1,
   "id": "3332b2be-6456-4a03-a06b-fd3f26f1ae5d",
   "metadata": {},
   "outputs": [],
   "source": [
    "import pandas as pd"
   ]
  },
  {
   "cell_type": "code",
   "execution_count": 8,
   "id": "4b73d151-4242-4965-a61d-6b8f928192f9",
   "metadata": {},
   "outputs": [],
   "source": [
    "nasdaq = pd.read_csv('D:/dev/Stock/data/nasdaq_screener_1723067375647.csv')"
   ]
  },
  {
   "cell_type": "code",
   "execution_count": 13,
   "id": "5f4015c5-e882-414c-896d-346459493ce8",
   "metadata": {},
   "outputs": [
    {
     "data": {
      "text/plain": [
       "array(['Other Consumer Services', 'Blank Checks',\n",
       "       'Biotechnology: Pharmaceutical Preparations',\n",
       "       'Farming/Seeds/Milling', 'Air Freight/Delivery Services',\n",
       "       'Life Insurance', 'Semiconductors',\n",
       "       'Industrial Machinery/Components', 'Computer Manufacturing',\n",
       "       'Metal Mining', 'Pharmaceuticals and Biotechnology',\n",
       "       'Biotechnology: In Vitro & In Vivo Diagnostic Substances',\n",
       "       'Investment Managers', 'Diversified Commercial Services',\n",
       "       'Biotechnology: Biological Products (No Diagnostic Substances)',\n",
       "       'Biotechnology: Commercial Physical & Biological Resarch',\n",
       "       'Computer Software: Programming Data Processing', 'Packaged Foods',\n",
       "       'Electric Utilities: Central',\n",
       "       ' Medicinal Chemicals and Botanical Products ',\n",
       "       'Business Services', 'Oilfield Services/Equipment',\n",
       "       'Property-Casualty Insurers', 'Medical Specialities',\n",
       "       'Computer Software: Prepackaged Software', 'Major Banks',\n",
       "       'Steel/Iron Ore', 'Specialty Insurers', 'Multi-Sector Companies',\n",
       "       'Engineering & Construction', nan, 'EDP Services',\n",
       "       'Industrial Specialties', 'Telecommunications Equipment',\n",
       "       'Medical/Nursing Services', 'Building Materials',\n",
       "       'Electrical Products', 'Real Estate', 'Medical/Dental Instruments',\n",
       "       'Durable Goods', 'Professional Services', 'Banks',\n",
       "       'Finance: Consumer Services',\n",
       "       'Services-Misc. Amusement & Recreation',\n",
       "       'Real Estate Investment Trusts', 'Metal Fabrications',\n",
       "       'Auto Manufacturing',\n",
       "       'Radio And Television Broadcasting And Communications Equipment',\n",
       "       'Biotechnology: Laboratory Analytical Instruments',\n",
       "       'Power Generation', 'Computer Communications Equipment',\n",
       "       'Computer peripheral equipment', 'Major Chemicals',\n",
       "       'Home Furnishings', 'Cable & Other Pay Television Services',\n",
       "       'Other Specialty Stores', 'Forest Products',\n",
       "       'Catalog/Specialty Distribution', 'Advertising',\n",
       "       'Recreational Games/Products/Toys', 'Oil & Gas Production',\n",
       "       'Auto Parts:O.E.M.', 'Meat/Poultry/Fish',\n",
       "       'Trucking Freight/Courier Services', 'Plastic Products',\n",
       "       'Coal Mining', 'Food Chains', 'Restaurants',\n",
       "       'Miscellaneous manufacturing industries', 'Water Supply',\n",
       "       'Construction/Ag Equipment/Trucks', 'Hotels/Resorts',\n",
       "       'Precious Metals',\n",
       "       'Mining & Quarrying of Nonmetallic Minerals (No Fuels)',\n",
       "       'Military/Government/Technical', 'Aerospace',\n",
       "       'Electronic Components',\n",
       "       'Biotechnology: Electromedical & Electrotherapeutic Apparatus',\n",
       "       'Ordnance And Accessories', 'Oil Refining/Marketing',\n",
       "       'Trusts Except Educational Religious and Charitable',\n",
       "       'Broadcasting', 'Savings Institutions',\n",
       "       'RETAIL: Building Materials', 'Investment Bankers/Brokers/Service',\n",
       "       'Other Pharmaceuticals', 'Agricultural Chemicals', 'Apparel',\n",
       "       'Transportation Services', 'Building Products',\n",
       "       'Office Equipment/Supplies/Services', 'Specialty Foods',\n",
       "       'Consumer Specialties', 'Integrated oil Companies',\n",
       "       'Managed Health Care', 'Marine Transportation',\n",
       "       'Rental/Leasing Companies', 'Retail-Auto Dealers and Gas Stations',\n",
       "       'Beverages (Production/Distribution)', 'Miscellaneous',\n",
       "       'Pollution Control Equipment', 'Aluminum', 'Food Distributors',\n",
       "       'Medical Electronics', 'Retail-Drug Stores and Proprietary Stores',\n",
       "       'Retail: Computer Software & Peripheral Equipment',\n",
       "       'Natural Gas Distribution',\n",
       "       'Professional and commerical equipment',\n",
       "       'Hospital/Nursing Management', 'Publishing',\n",
       "       'Consumer Electronics/Video Chains', 'Ophthalmic Goods',\n",
       "       'Department/Specialty Retail Stores', 'Shoe Manufacturing',\n",
       "       'Textiles', 'Finance Companies', 'Railroads', 'Motor Vehicles',\n",
       "       'Clothing/Shoe/Accessory Stores', 'Movies/Entertainment',\n",
       "       'Homebuilding', 'Environmental Services', 'Newspapers/Magazines',\n",
       "       'Automotive Aftermarket', 'Containers/Packaging',\n",
       "       'Water Sewer Pipeline Comm & Power Line Construction',\n",
       "       'Commercial Banks', 'Other Metals and Minerals',\n",
       "       'Finance/Investors Services', 'Misc Corporate Leasing Services',\n",
       "       'Consumer Electronics/Appliances', 'Building operators',\n",
       "       'Specialty Chemicals', 'Package Goods/Cosmetics',\n",
       "       'Misc Health and Biotechnology Services', 'Paper',\n",
       "       'Diversified Electronic Products', 'Precision Instruments',\n",
       "       'Oil/Gas Transmission', 'Auto & Home Supply Stores',\n",
       "       'Accident &Health Insurance',\n",
       "       'General Bldg Contractors - Nonresidential Bldgs', 'Books',\n",
       "       'Diversified Financial Services'], dtype=object)"
      ]
     },
     "execution_count": 13,
     "metadata": {},
     "output_type": "execute_result"
    }
   ],
   "source": [
    "nasdaq['Industry'].unique()"
   ]
  },
  {
   "cell_type": "code",
   "execution_count": 14,
   "id": "eeb20a2c-16cb-40e2-ac1f-ea85185db48c",
   "metadata": {},
   "outputs": [
    {
     "name": "stdout",
     "output_type": "stream",
     "text": [
      "다운로드 중 오류가 발생했습니다: ('Connection aborted.', RemoteDisconnected('Remote end closed connection without response'))\n",
      "파일 다운로드에 실패했습니다.\n"
     ]
    }
   ],
   "source": [
    "import requests\n",
    "import os\n",
    "from datetime import datetime\n",
    "\n",
    "def download_nasdaq_csv(url, filename=None):\n",
    "    try:\n",
    "        # GET 요청 보내기\n",
    "        response = requests.get(url)\n",
    "        \n",
    "        # 요청이 성공했는지 확인\n",
    "        response.raise_for_status()\n",
    "        \n",
    "        # 파일 이름이 지정되지 않은 경우, 현재 날짜와 시간으로 파일 이름 생성\n",
    "        if filename is None:\n",
    "            now = datetime.now().strftime(\"%Y%m%d_%H%M%S\")\n",
    "            filename = f\"nasdaq_stocks_{now}.csv\"\n",
    "        \n",
    "        # 파일 저장\n",
    "        with open(filename, 'wb') as file:\n",
    "            file.write(response.content)\n",
    "        \n",
    "        print(f\"파일이 성공적으로 다운로드되었습니다: {filename}\")\n",
    "        return filename\n",
    "    \n",
    "    except requests.RequestException as e:\n",
    "        print(f\"다운로드 중 오류가 발생했습니다: {e}\")\n",
    "        return None\n",
    "\n",
    "# NASDAQ 주식 목록 CSV 다운로드 URL\n",
    "url = \"https://www.nasdaq.com/market-activity/stocks/screener?exchange=nasdaq&render=download\"\n",
    "\n",
    "# 파일 다운로드\n",
    "downloaded_file = download_nasdaq_csv(url)\n",
    "\n",
    "if downloaded_file:\n",
    "    # 다운로드된 파일의 크기 확인\n",
    "    file_size = os.path.getsize(downloaded_file)\n",
    "    print(f\"다운로드된 파일 크기: {file_size} 바이트\")\n",
    "    \n",
    "    # 파일 내용 미리보기 (처음 5줄)\n",
    "    print(\"\\n파일 내용 미리보기:\")\n",
    "    with open(downloaded_file, 'r', encoding='utf-8') as file:\n",
    "        for i, line in enumerate(file):\n",
    "            if i < 5:\n",
    "                print(line.strip())\n",
    "            else:\n",
    "                break\n",
    "else:\n",
    "    print(\"파일 다운로드에 실패했습니다.\")"
   ]
  },
  {
   "cell_type": "code",
   "execution_count": null,
   "id": "eea2c0ed-b862-41cd-b2cb-c6ecc1cec445",
   "metadata": {},
   "outputs": [],
   "source": []
  }
 ],
 "metadata": {
  "kernelspec": {
   "display_name": "Python 3 (ipykernel)",
   "language": "python",
   "name": "python3"
  },
  "language_info": {
   "codemirror_mode": {
    "name": "ipython",
    "version": 3
   },
   "file_extension": ".py",
   "mimetype": "text/x-python",
   "name": "python",
   "nbconvert_exporter": "python",
   "pygments_lexer": "ipython3",
   "version": "3.11.1"
  }
 },
 "nbformat": 4,
 "nbformat_minor": 5
}
