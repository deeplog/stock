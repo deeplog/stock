{
 "cells": [
  {
   "cell_type": "code",
   "execution_count": 1,
   "id": "a4fe0c09-45c4-4303-9f0a-dbd86025c377",
   "metadata": {},
   "outputs": [],
   "source": [
    "import pandas as pd\n",
    "import numpy as np\n",
    "import yfinance as yf\n",
    "import init"
   ]
  },
  {
   "cell_type": "code",
   "execution_count": 2,
   "id": "9cd6ba08-8f4e-4cb6-82d5-a90e6c666777",
   "metadata": {},
   "outputs": [],
   "source": [
    "from stock.util import data"
   ]
  },
  {
   "cell_type": "code",
   "execution_count": 8,
   "id": "8c8c8d2d-1e1f-409a-adb5-c38df7dc4fe0",
   "metadata": {},
   "outputs": [],
   "source": [
    "def pullback(df, ma_period=20, threshold=0.03):   \n",
    "    # 이동평균 계산\n",
    "    df['MA'] = df['Close'].rolling(window=ma_period).mean()\n",
    "    \n",
    "    # 상승 추세 확인 (현재 주가가 이동평균보다 높은지)\n",
    "    df['Uptrend'] = df['Close'] > df['MA']\n",
    "    \n",
    "    # 눌림목 확인 (주가가 이동평균 근처로 내려왔는지)\n",
    "    df['Pullback'] = (df['Close'] - df['MA']) / df['MA'] < threshold\n",
    "    \n",
    "    # 매수 신호 생성\n",
    "    df['Buy_Signal'] = df['Uptrend'] & df['Pullback']\n",
    "    \n",
    "    return df"
   ]
  },
  {
   "cell_type": "code",
   "execution_count": 12,
   "id": "0498f9e9-b525-4515-acdd-8edaeeed58c9",
   "metadata": {},
   "outputs": [
    {
     "name": "stdout",
     "output_type": "stream",
     "text": [
      "                                 Open        High         Low       Close  \\\n",
      "Date                                                                        \n",
      "2024-07-29 00:00:00-04:00  113.690002  116.279999  111.300003  111.589996   \n",
      "2024-07-30 00:00:00-04:00  111.519997  111.989998  102.540001  103.730003   \n",
      "2024-07-31 00:00:00-04:00  112.900002  118.339996  110.879997  117.019997   \n",
      "2024-08-01 00:00:00-04:00  117.529999  120.160004  106.809998  109.209999   \n",
      "2024-08-02 00:00:00-04:00  103.760002  108.720001  101.370003  107.269997   \n",
      "\n",
      "                              Volume  Dividends  Stock Splits        MA  \\\n",
      "Date                                                                      \n",
      "2024-07-29 00:00:00-04:00  248152100        0.0           0.0  123.0665   \n",
      "2024-07-30 00:00:00-04:00  486833300        0.0           0.0  122.0380   \n",
      "2024-07-31 00:00:00-04:00  473174200        0.0           0.0  121.7555   \n",
      "2024-08-01 00:00:00-04:00  523462300        0.0           0.0  120.8020   \n",
      "2024-08-02 00:00:00-04:00  480242500        0.0           0.0  119.8740   \n",
      "\n",
      "                           Uptrend  Pullback  Buy_Signal  \n",
      "Date                                                      \n",
      "2024-07-29 00:00:00-04:00    False      True       False  \n",
      "2024-07-30 00:00:00-04:00    False      True       False  \n",
      "2024-07-31 00:00:00-04:00    False      True       False  \n",
      "2024-08-01 00:00:00-04:00    False      True       False  \n",
      "2024-08-02 00:00:00-04:00    False      True       False  \n",
      "\n",
      "매수 신호 발생 날짜:\n",
      "DatetimeIndex(['2024-03-27 00:00:00-04:00', '2024-03-28 00:00:00-04:00',\n",
      "               '2024-04-01 00:00:00-04:00', '2024-04-11 00:00:00-04:00',\n",
      "               '2024-04-26 00:00:00-04:00', '2024-04-29 00:00:00-04:00',\n",
      "               '2024-04-30 00:00:00-04:00', '2024-05-02 00:00:00-04:00',\n",
      "               '2024-06-26 00:00:00-04:00', '2024-06-27 00:00:00-04:00',\n",
      "               '2024-07-03 00:00:00-04:00', '2024-07-05 00:00:00-04:00',\n",
      "               '2024-07-08 00:00:00-04:00', '2024-07-12 00:00:00-04:00',\n",
      "               '2024-07-15 00:00:00-04:00'],\n",
      "              dtype='datetime64[ns, America/New_York]', name='Date', freq=None)\n"
     ]
    }
   ],
   "source": [
    "# 사용 예시\n",
    "ticker = \"NVDA\"  # Apple Inc.\n",
    "start_date = \"2024-01-01\"\n",
    "end_date = \"2024-8-31\"\n",
    "\n",
    "df = data.get_stock_data(ticker, start_date, end_date)\n",
    "\n",
    "result = pullback(df)\n",
    "\n",
    "print(result.tail())\n",
    "print(\"\\n매수 신호 발생 날짜:\")\n",
    "print(result[result['Buy_Signal']].index)"
   ]
  },
  {
   "cell_type": "code",
   "execution_count": null,
   "id": "3175b7cb-989b-458a-9b11-068217b62d32",
   "metadata": {},
   "outputs": [],
   "source": [
    "resu"
   ]
  }
 ],
 "metadata": {
  "kernelspec": {
   "display_name": "Python 3 (ipykernel)",
   "language": "python",
   "name": "python3"
  },
  "language_info": {
   "codemirror_mode": {
    "name": "ipython",
    "version": 3
   },
   "file_extension": ".py",
   "mimetype": "text/x-python",
   "name": "python",
   "nbconvert_exporter": "python",
   "pygments_lexer": "ipython3",
   "version": "3.11.1"
  }
 },
 "nbformat": 4,
 "nbformat_minor": 5
}
