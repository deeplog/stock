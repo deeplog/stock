{
 "cells": [
  {
   "cell_type": "code",
   "execution_count": null,
   "id": "7d0c0899-a129-4f65-b4aa-594f31716b3b",
   "metadata": {},
   "outputs": [],
   "source": [
    "import pandas as pd\n",
    "import requests\n",
    "\n",
    "def get_us_stock_list():\n",
    "    # NASDAQ, NYSE, AMEX 상장 기업 목록 URL\n",
    "    urls = [\n",
    "        \"https://www.nasdaq.com/market-activity/stocks/screener?exchange=nasdaq&render=download\",\n",
    "        \"https://www.nasdaq.com/market-activity/stocks/screener?exchange=nyse&render=download\",\n",
    "        \"https://www.nasdaq.com/market-activity/stocks/screener?exchange=amex&render=download\"\n",
    "    ]\n",
    "    \n",
    "    all_stocks = pd.DataFrame()\n",
    "    \n",
    "    for url in urls:\n",
    "        try:\n",
    "            df = pd.read_csv(url)\n",
    "            all_stocks = pd.concat([all_stocks, df], ignore_index=True)\n",
    "        except Exception as e:\n",
    "            print(f\"Error fetching data from {url}: {e}\")\n",
    "    \n",
    "    return all_stocks\n",
    "\n",
    "# 미국 주식 목록 가져오기\n",
    "us_stocks = get_us_stock_list()\n",
    "\n",
    "if not us_stocks.empty:\n",
    "    # 결과 출력 (상위 10개 기업)\n",
    "    print(us_stocks.head(10))\n",
    "\n",
    "    # 기본 정보 출력\n",
    "    print(f\"\\n총 기업 수: {len(us_stocks)}\")\n",
    "    \n",
    "    # 거래소별 기업 수\n",
    "    print(\"\\n거래소별 기업 수:\")\n",
    "    print(us_stocks['Exchange'].value_counts())\n",
    "\n",
    "    # 섹터별 기업 수 (섹터 정보가 있는 경우)\n",
    "    if 'Sector' in us_stocks.columns:\n",
    "        print(\"\\n섹터별 기업 수:\")\n",
    "        print(us_stocks['Sector'].value_counts())\n",
    "\n",
    "    # CSV 파일로 저장\n",
    "    us_stocks.to_csv('us_stocks_list.csv', index=False)\n",
    "    print(\"\\nCSV 파일로 저장되었습니다: us_stocks_list.csv\")\n",
    "else:\n",
    "    print(\"주식 목록을 가져오는 데 실패했습니다.\")\n",
    "\n",
    "print(\"\\n주의: 이 데이터는 실시간 업데이트되지 않을 수 있으며, NASDAQ 웹사이트의 정책에 따라 사용이 제한될 수 있습니다.\")"
   ]
  },
  {
   "cell_type": "code",
   "execution_count": null,
   "id": "167d78de-dd45-493b-a173-99dfc4660acc",
   "metadata": {},
   "outputs": [],
   "source": []
  }
 ],
 "metadata": {
  "kernelspec": {
   "display_name": "Python 3 (ipykernel)",
   "language": "python",
   "name": "python3"
  },
  "language_info": {
   "codemirror_mode": {
    "name": "ipython",
    "version": 3
   },
   "file_extension": ".py",
   "mimetype": "text/x-python",
   "name": "python",
   "nbconvert_exporter": "python",
   "pygments_lexer": "ipython3",
   "version": "3.11.1"
  }
 },
 "nbformat": 4,
 "nbformat_minor": 5
}
