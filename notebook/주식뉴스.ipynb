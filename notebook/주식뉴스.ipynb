{
 "cells": [
  {
   "cell_type": "code",
   "execution_count": 6,
   "id": "bc2a99fa-f650-46f2-a4e0-085badd781ad",
   "metadata": {},
   "outputs": [
    {
     "name": "stdout",
     "output_type": "stream",
     "text": [
      "         date                                              title  \\\n",
      "0  2024-08-06  Why Not Buy the Dip on Nvidia, Microsoft, and ...   \n",
      "1  2024-08-06  Dow Jones Bounces After Stock Market Rout; Pal...   \n",
      "2  2024-08-06  Are the AI, tech trades still the move after M...   \n",
      "3  2024-08-06  Nvidia, Crowdstrike upgraded: Wall Street's to...   \n",
      "4  2024-08-06  NVIDIA (NVDA) Plunges 21% in a Month: Should Y...   \n",
      "5  2024-08-06             These Stocks Are Moving the Most Today   \n",
      "6  2024-08-06  These Stocks Are Moving the Most Today: Palant...   \n",
      "7  2024-08-06  AI Stocks: Tech Giants, Cloud Titans Face 'Sho...   \n",
      "\n",
      "                                                link  \n",
      "0  https://finance.yahoo.com/m/1725ff96-d6cd-3644...  \n",
      "1  https://finance.yahoo.com/m/0e3a7d07-61a9-3ed8...  \n",
      "2  https://finance.yahoo.com/video/ai-tech-trades...  \n",
      "3  https://finance.yahoo.com/news/nvidia-crowdstr...  \n",
      "4  https://finance.yahoo.com/news/nvidia-nvda-plu...  \n",
      "5  https://finance.yahoo.com/m/e3eb43b3-661e-30c5...  \n",
      "6  https://finance.yahoo.com/m/a5779f3e-9ead-3399...  \n",
      "7  https://finance.yahoo.com/m/684c930d-1475-3adc...  \n"
     ]
    }
   ],
   "source": [
    "import yfinance as yf\n",
    "import pandas as pd\n",
    "from datetime import datetime, timedelta\n",
    "\n",
    "def get_stock_news(ticker, days=7):\n",
    "    # 주식 객체 생성\n",
    "    stock = yf.Ticker(ticker)\n",
    "    \n",
    "    # 현재 날짜와 7일 전 날짜 계산\n",
    "    end_date = datetime.now()\n",
    "    start_date = end_date - timedelta(days=days)\n",
    "    \n",
    "    # 뉴스 가져오기\n",
    "    news = stock.news\n",
    "    \n",
    "    # 결과를 저장할 리스트\n",
    "    news_list = []\n",
    "    \n",
    "    for item in news:\n",
    "        # 뉴스 날짜를 datetime 객체로 변환\n",
    "        news_date = datetime.fromtimestamp(item['providerPublishTime'])\n",
    "        \n",
    "        # 지정된 기간 내의 뉴스만 선택\n",
    "        if start_date <= news_date <= end_date:\n",
    "            news_list.append({\n",
    "                'date': news_date.strftime('%Y-%m-%d'),\n",
    "                'title': item['title'],\n",
    "                'link': item['link']\n",
    "            })\n",
    "    \n",
    "    # 결과를 DataFrame으로 변환\n",
    "    df = pd.DataFrame(news_list)\n",
    "    return df\n",
    "\n",
    "# 사용 예시\n",
    "ticker = \"NVDA\"  # Apple Inc.의 티커 심볼\n",
    "news_df = get_stock_news(ticker)\n",
    "print(news_df)"
   ]
  },
  {
   "cell_type": "code",
   "execution_count": 7,
   "id": "c5f89029-925f-4b49-8f20-55a4f5676e69",
   "metadata": {},
   "outputs": [
    {
     "data": {
      "text/plain": [
       "['https://finance.yahoo.com/m/1725ff96-d6cd-3644-af59-e319de63d53e/why-not-buy-the-dip-on.html',\n",
       " 'https://finance.yahoo.com/m/0e3a7d07-61a9-3ed8-b6bf-bbe0a6430882/dow-jones-bounces-after-stock.html',\n",
       " 'https://finance.yahoo.com/video/ai-tech-trades-still-move-133839658.html',\n",
       " 'https://finance.yahoo.com/news/nvidia-crowdstrike-upgraded-wall-streets-133540113.html',\n",
       " 'https://finance.yahoo.com/news/nvidia-nvda-plunges-21-month-124200241.html',\n",
       " 'https://finance.yahoo.com/m/e3eb43b3-661e-30c5-bc65-bf5a7df2363c/these-stocks-are-moving-the.html',\n",
       " 'https://finance.yahoo.com/m/a5779f3e-9ead-3399-b7ed-8eb425c9819c/these-stocks-are-moving-the.html',\n",
       " 'https://finance.yahoo.com/m/684c930d-1475-3adc-b013-ae604c056ebc/ai-stocks%3A-tech-giants%2C-cloud.html']"
      ]
     },
     "execution_count": 7,
     "metadata": {},
     "output_type": "execute_result"
    }
   ],
   "source": [
    "list(news_df['link'])"
   ]
  },
  {
   "cell_type": "code",
   "execution_count": null,
   "id": "2d0635a1-beca-41f5-ac42-e9e20f87376a",
   "metadata": {},
   "outputs": [],
   "source": []
  }
 ],
 "metadata": {
  "kernelspec": {
   "display_name": "Python 3 (ipykernel)",
   "language": "python",
   "name": "python3"
  },
  "language_info": {
   "codemirror_mode": {
    "name": "ipython",
    "version": 3
   },
   "file_extension": ".py",
   "mimetype": "text/x-python",
   "name": "python",
   "nbconvert_exporter": "python",
   "pygments_lexer": "ipython3",
   "version": "3.11.1"
  }
 },
 "nbformat": 4,
 "nbformat_minor": 5
}
