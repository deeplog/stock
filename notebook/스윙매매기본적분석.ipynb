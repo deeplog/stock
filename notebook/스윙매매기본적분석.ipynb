{
 "cells": [
  {
   "cell_type": "code",
   "execution_count": 74,
   "id": "02d6e877-48bf-42bb-86fa-5fff2f81ff49",
   "metadata": {},
   "outputs": [],
   "source": [
    "ticker = \"456040.KS\" #OCI\n",
    "company = yf.Ticker(ticker)\n",
    "balance_sheet = company.balance_sheet\n",
    "capital_stock = balance_sheet.loc['Common Stock'].iloc[0] # 최신 자본금\n",
    "retained_earnings = balance_sheet.loc['Retained Earnings'].iloc[0]# 이익잉여금\n",
    "capital_surplus = balance_sheet.loc['Additional Paid-In Capital', latest_quarter] if 'Additional Paid-In Capital' in balance_sheet.index else 0# 자본 이영금\n",
    "total_reserves = retained_earnings + capital_surplus # 유보액\n",
    "retention_ratio = (total_reserves / capital_stock) * 100 #유보율\n",
    "treasury_stock = abs(balance_sheet.loc['Treasury Stock'].iloc[0]) if 'Treasury Stock' in balance_sheet.index else 0 # 자기주식\n",
    "total_assets = balance_sheet.loc['Total Assets'].iloc[0]\n",
    "total_liabilities = balance_sheet.loc['Total Liabilities Net Minority Interest'].iloc[0]\n",
    "minority_interest = balance_sheet.loc['Minority Interest'].iloc[0] if 'Minority Interest' in balance_sheet.index else 0\n",
    "controlling_interest_equity =total_assets - total_liabilities - minority_interest +treasury_stock\n",
    "retention_ratio = 100*(controlling_interest_equity-capital_stock)/capital_stock #유보율"
   ]
  },
  {
   "cell_type": "code",
   "execution_count": 68,
   "id": "a84a67b3-807d-4755-9770-5a72a7234e3e",
   "metadata": {},
   "outputs": [
    {
     "data": {
      "text/plain": [
       "2557.639758017268"
      ]
     },
     "execution_count": 68,
     "metadata": {},
     "output_type": "execute_result"
    }
   ],
   "source": [
    "retention_ratio"
   ]
  },
  {
   "cell_type": "code",
   "execution_count": null,
   "id": "2528477d-f95a-4b33-9348-25cad71d7ac6",
   "metadata": {},
   "outputs": [],
   "source": []
  }
 ],
 "metadata": {
  "kernelspec": {
   "display_name": "Python 3 (ipykernel)",
   "language": "python",
   "name": "python3"
  },
  "language_info": {
   "codemirror_mode": {
    "name": "ipython",
    "version": 3
   },
   "file_extension": ".py",
   "mimetype": "text/x-python",
   "name": "python",
   "nbconvert_exporter": "python",
   "pygments_lexer": "ipython3",
   "version": "3.11.1"
  }
 },
 "nbformat": 4,
 "nbformat_minor": 5
}
