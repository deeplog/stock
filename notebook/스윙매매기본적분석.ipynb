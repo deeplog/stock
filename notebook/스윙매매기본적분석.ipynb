{
 "cells": [
  {
   "cell_type": "code",
   "execution_count": 149,
   "id": "02d6e877-48bf-42bb-86fa-5fff2f81ff49",
   "metadata": {},
   "outputs": [],
   "source": [
    "# 국내 주식에만 적용 가능\n",
    "import numpy as np\n",
    "def appropriate_stock_price(ticker):\n",
    "    #ticker = \"456040.KS\" #OCI\n",
    "    company = yf.Ticker(ticker)\n",
    "    balance_sheet = company.balance_sheet\n",
    "    info = company.info\n",
    "    \n",
    "    capital_stock = balance_sheet.loc['Common Stock'].iloc[0] # 자본금\n",
    "    retained_earnings = balance_sheet.loc['Retained Earnings'].iloc[0]# 이익잉여금\n",
    "    capital_surplus = balance_sheet.loc['Additional Paid-In Capital', latest_quarter] if 'Additional Paid-In Capital' in balance_sheet.index else 0# 자본 이영금\n",
    "    total_reserves = retained_earnings + capital_surplus # 유보액\n",
    "    retention_ratio = (total_reserves / capital_stock) * 100 #유보율\n",
    "    treasury_stock = abs(balance_sheet.loc['Treasury Stock'].iloc[0]) if 'Treasury Stock' in balance_sheet.index else 0 # 자기주식\n",
    "    if np.isnan(treasury_stock):\n",
    "        treasury_stock =0\n",
    "    total_assets = balance_sheet.loc['Total Assets'].iloc[0]\n",
    "    total_liabilities = balance_sheet.loc['Total Liabilities Net Minority Interest'].iloc[0]\n",
    "    minority_interest = balance_sheet.loc['Minority Interest'].iloc[0] if 'Minority Interest' in balance_sheet.index else 0\n",
    "    controlling_interest_equity =total_assets - total_liabilities - minority_interest +treasury_stock\n",
    "    retention_ratio = (controlling_interest_equity-capital_stock)/capital_stock #유보율\n",
    "    \n",
    "    #부채비율 구하기\n",
    "    total_equity = balance_sheet.loc['Total Equity Gross Minority Interest'].iloc[0]\n",
    "    debt_ratio = (total_liabilities / total_equity) \n",
    "    \n",
    "    #시가총액 구하기\n",
    "    current_price = info.get('currentPrice')\n",
    "    shares_outstanding = info.get('sharesOutstanding')\n",
    "    market_cap = current_price*shares_outstanding\n",
    "\n",
    "    #실질가치\n",
    "    real_value = capital_stock*(retention_ratio-debt_ratio)\n",
    "    stock_price = real_value/shares_outstanding\n",
    "    return {'current_price':current_price, 'recommend_price':stock_price*0.8}"
   ]
  },
  {
   "cell_type": "code",
   "execution_count": 150,
   "id": "a84a67b3-807d-4755-9770-5a72a7234e3e",
   "metadata": {},
   "outputs": [
    {
     "data": {
      "text/plain": [
       "{'current_price': 82300.0, 'recommend_price': 81582.11231162508}"
      ]
     },
     "execution_count": 150,
     "metadata": {},
     "output_type": "execute_result"
    }
   ],
   "source": [
    "ticker = \"456040.KS\" #OCI\n",
    "appropriate_stock_price(ticker)"
   ]
  },
  {
   "cell_type": "code",
   "execution_count": 151,
   "id": "a931e60d-c5b8-409e-80d7-bfa709cd20a8",
   "metadata": {},
   "outputs": [
    {
     "data": {
      "text/plain": [
       "{'current_price': 80200.0, 'recommend_price': 47205.54570906538}"
      ]
     },
     "execution_count": 151,
     "metadata": {},
     "output_type": "execute_result"
    }
   ],
   "source": [
    "ticker = \"005930.KS\" #Samsung Electro\n",
    "appropriate_stock_price(ticker)"
   ]
  },
  {
   "cell_type": "code",
   "execution_count": 152,
   "id": "55ae8354-b102-44e6-b9ca-144928a521ab",
   "metadata": {},
   "outputs": [
    {
     "data": {
      "text/plain": [
       "{'current_price': 10820.0, 'recommend_price': 360.24459376595047}"
      ]
     },
     "execution_count": 152,
     "metadata": {},
     "output_type": "execute_result"
    }
   ],
   "source": [
    "ticker = \"010140.KS\" #삼성중공업\n",
    "appropriate_stock_price(ticker)"
   ]
  },
  {
   "cell_type": "code",
   "execution_count": 153,
   "id": "031c615b-41da-4f15-9eba-5b6f4eeec72f",
   "metadata": {},
   "outputs": [
    {
     "data": {
      "text/plain": [
       "{'current_price': 124.58, 'recommend_price': 1.3976556150557906}"
      ]
     },
     "execution_count": 153,
     "metadata": {},
     "output_type": "execute_result"
    }
   ],
   "source": [
    "ticker = \"nvda\" # nvidia\n",
    "appropriate_stock_price(ticker)"
   ]
  },
  {
   "cell_type": "code",
   "execution_count": null,
   "id": "e852c906-2f11-45f9-a258-f3e18b7307ac",
   "metadata": {},
   "outputs": [],
   "source": []
  }
 ],
 "metadata": {
  "kernelspec": {
   "display_name": "Python 3 (ipykernel)",
   "language": "python",
   "name": "python3"
  },
  "language_info": {
   "codemirror_mode": {
    "name": "ipython",
    "version": 3
   },
   "file_extension": ".py",
   "mimetype": "text/x-python",
   "name": "python",
   "nbconvert_exporter": "python",
   "pygments_lexer": "ipython3",
   "version": "3.11.1"
  }
 },
 "nbformat": 4,
 "nbformat_minor": 5
}
